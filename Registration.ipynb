{
 "cells": [
  {
   "cell_type": "code",
   "execution_count": 12,
   "metadata": {
    "id": "BSfrx1N_4qwV"
   },
   "outputs": [],
   "source": [
    "#Assignment 0                                                        \n",
    "\n",
    "#Registration and Login system with Python, file handling\n",
    "#STAGE -- 1 \n",
    "#Registration\n"
   ]
  },
  {
   "cell_type": "code",
   "execution_count": 13,
   "metadata": {
    "executionInfo": {
     "elapsed": 368,
     "status": "ok",
     "timestamp": 1642833155103,
     "user": {
      "displayName": "Jerin Andrea",
      "photoUrl": "https://lh3.googleusercontent.com/a-/AOh14GhWkWjjOb8Xy9fRdunzYNZvXVzyNa1uBe4W8lvdPg=s64",
      "userId": "15567992379253474154"
     },
     "user_tz": -330
    },
    "id": "LSvUjIzvdPpQ"
   },
   "outputs": [],
   "source": [
    "import re   \n",
    "\n",
    "regex = '^[a-z0-9]+[\\._]?[a-z0-9]+[@]\\w+[.]\\w{2,3}$'  \n",
    "reg = \"^(?=.*[a-z])(?=.*[A-Z])(?=.*\\d)(?=.*[@$!%*#?&])[A-Za-z\\d@$!#%*?&]{5,16}$\"\n",
    "\n",
    "def check_email(email):  # for email checking constraint\n",
    "    if(re.search(regex,email)):   \n",
    "        return True\n",
    "    else:   \n",
    "        print(\"Invalid Email\")\n",
    "\n",
    "def check_P(password): # For password checking constraint\n",
    "  if(re.fullmatch(reg, password)):\n",
    "      return True\n",
    "  else:\n",
    "      print(\"Invalid password\")"
   ]
  },
  {
   "cell_type": "code",
   "execution_count": 14,
   "metadata": {
    "colab": {
     "base_uri": "https://localhost:8080/"
    },
    "executionInfo": {
     "elapsed": 30677,
     "status": "ok",
     "timestamp": 1642840670634,
     "user": {
      "displayName": "Jerin Andrea",
      "photoUrl": "https://lh3.googleusercontent.com/a-/AOh14GhWkWjjOb8Xy9fRdunzYNZvXVzyNa1uBe4W8lvdPg=s64",
      "userId": "15567992379253474154"
     },
     "user_tz": -330
    },
    "id": "iuQs9hI4dq0z",
    "outputId": "1a6562b3-32bc-4a01-d502-bd7d1595a87c"
   },
   "outputs": [
    {
     "name": "stdout",
     "output_type": "stream",
     "text": [
      "For Register - Enter 1 \n",
      "For Login - Enter 2 \n",
      "For Forgot Password - Enter 3\n",
      "1\n",
      "Enter your correct Email Id - janani99@gmail.com\n",
      "Enter your password \n",
      "  Must have minimum one special character,\n",
      "  one digit,\n",
      "  one uppercase,\n",
      "  one lowercase character\n",
      "Janani@99\n",
      "Login Successful\n"
     ]
    }
   ],
   "source": [
    "print(\"For Register - Enter 1 \\nFor Login - Enter 2 \\nFor Forgot Password - Enter 3\")\n",
    "inputs = int(input())\n",
    "\n",
    "\n",
    "if inputs == 1:\n",
    "  email = input(\"Enter your correct Email Id - \")\n",
    "  password = input(\"\"\"Enter your password \n",
    "  Must have minimum one special character,\n",
    "  one digit,\n",
    "  one uppercase,\n",
    "  one lowercase character\\n\"\"\")\n",
    "\n",
    "  if check_email(email) and check_P(password):\n",
    "    f = open(\"username_and_password.txt\", \"a\")\n",
    "    f.write(str(email)+\" \"+str(password)+\" \")\n",
    "    f.close()\n",
    "    print(\"Login Successful\")\n",
    "  else:\n",
    "    print(\"Enter correct email or Enter passwords as per constraints\")\n",
    "  \n",
    "if inputs == 2:\n",
    "    email = input(\"Enter Email - \")\n",
    "    password = input(\"Enter Password - \")\n",
    "    k = open(\"username_and_password.txt\", \"r\")\n",
    "    all = k.read()\n",
    "    all = all.split(\" \")  \n",
    "    if email and password  in all:\n",
    "      print(\"Login Successful\")\n",
    "    else:\n",
    "      print(\"Enter correct password or register \")\n",
    "\n",
    "if inputs == 3:\n",
    "    email = input(\"Enter your email to get your password :- \")\n",
    "    f = open(\"username_and_password.txt\", \"r\")\n",
    "    all = f.read()\n",
    "    all = all.split(\" \")\n",
    "    for i in range(0 , len(all),2):\n",
    "      if all[i] == email:\n",
    "        print(\"your password is \",all[i+1])\n",
    "        break\n",
    "    if email not in all:\n",
    "      print(\"not password not found associated with our email\")\n"
   ]
  },
  {
   "cell_type": "code",
   "execution_count": 15,
   "metadata": {
    "id": "REWg8UUppF9t"
   },
   "outputs": [],
   "source": [
    "#Stage 2 \n",
    "#Once the username and password are validated, store those values in a file"
   ]
  },
  {
   "cell_type": "code",
   "execution_count": 16,
   "metadata": {
    "colab": {
     "base_uri": "https://localhost:8080/"
    },
    "executionInfo": {
     "elapsed": 372,
     "status": "ok",
     "timestamp": 1642840680168,
     "user": {
      "displayName": "Jerin Andrea",
      "photoUrl": "https://lh3.googleusercontent.com/a-/AOh14GhWkWjjOb8Xy9fRdunzYNZvXVzyNa1uBe4W8lvdPg=s64",
      "userId": "15567992379253474154"
     },
     "user_tz": -330
    },
    "id": "3_UdR3tro2qV",
    "outputId": "5062600e-196e-412d-9609-f152c5311f3f"
   },
   "outputs": [
    {
     "name": "stdout",
     "output_type": "stream",
     "text": [
      "['jananibalaji13299@gmail.com', 'Janani@99', 'janani99@gmail.com', 'Janani@99', '']\n"
     ]
    }
   ],
   "source": [
    "k = open(\"username_and_password.txt\", \"r\")\n",
    "all = k.read()\n",
    "all = all.split(\" \") \n",
    "print(all)"
   ]
  },
  {
   "cell_type": "code",
   "execution_count": null,
   "metadata": {},
   "outputs": [],
   "source": []
  }
 ],
 "metadata": {
  "colab": {
   "authorship_tag": "ABX9TyMsqyFHejN4azSEYRVZkWaI",
   "collapsed_sections": [],
   "name": "Registration.ipynb",
   "provenance": []
  },
  "kernelspec": {
   "display_name": "Python 3",
   "language": "python",
   "name": "python3"
  },
  "language_info": {
   "codemirror_mode": {
    "name": "ipython",
    "version": 3
   },
   "file_extension": ".py",
   "mimetype": "text/x-python",
   "name": "python",
   "nbconvert_exporter": "python",
   "pygments_lexer": "ipython3",
   "version": "3.8.5"
  }
 },
 "nbformat": 4,
 "nbformat_minor": 1
}
